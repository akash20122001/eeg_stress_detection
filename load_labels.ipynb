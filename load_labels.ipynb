{
 "cells": [
  {
   "cell_type": "code",
   "execution_count": 2,
   "metadata": {},
   "outputs": [],
   "source": [
    "import pandas as pd"
   ]
  },
  {
   "cell_type": "code",
   "execution_count": 3,
   "metadata": {},
   "outputs": [],
   "source": [
    "labels_path = 'Data/scales.xls'"
   ]
  },
  {
   "cell_type": "code",
   "execution_count": 4,
   "metadata": {},
   "outputs": [],
   "source": [
    "columns_to_rename = {\n",
    "    'Subject No.': 'subject_no',\n",
    "    'Trial_1': 't1_math',\n",
    "    'Unnamed: 2': 't1_symmetry',\n",
    "    'Unnamed: 3': 't1_stroop',\n",
    "    'Trial_2': 't2_math',\n",
    "    'Unnamed: 5': 't2_symmetry',\n",
    "    'Unnamed: 6': 't2_stroop',\n",
    "    'Trial_3': 't3_math',\n",
    "    'Unnamed: 8': 't3_symmetry',\n",
    "    'Unnamed: 9': 't3_stroop'\n",
    "}"
   ]
  },
  {
   "cell_type": "code",
   "execution_count": 5,
   "metadata": {},
   "outputs": [],
   "source": [
    "def load_labels():\n",
    "    labels = pd.read_excel(labels_path)\n",
    "    labels = labels.rename(columns=columns_to_rename)\n",
    "    labels = labels[1:]\n",
    "    labels = labels.astype(\"int\")\n",
    "    labels = labels > 5\n",
    "    return labels"
   ]
  },
  {
   "cell_type": "code",
   "execution_count": null,
   "metadata": {},
   "outputs": [],
   "source": []
  },
  {
   "cell_type": "code",
   "execution_count": null,
   "metadata": {},
   "outputs": [],
   "source": [
    "\n",
    "\n"
   ]
  },
  {
   "cell_type": "code",
   "execution_count": null,
   "metadata": {},
   "outputs": [],
   "source": []
  }
 ],
 "metadata": {
  "kernelspec": {
   "display_name": "Python 3.9.7 ('init')",
   "language": "python",
   "name": "python3"
  },
  "language_info": {
   "codemirror_mode": {
    "name": "ipython",
    "version": 3
   },
   "file_extension": ".py",
   "mimetype": "text/x-python",
   "name": "python",
   "nbconvert_exporter": "python",
   "pygments_lexer": "ipython3",
   "version": "3.9.7"
  },
  "orig_nbformat": 4,
  "vscode": {
   "interpreter": {
    "hash": "6a0b16b431f91af56543167d2335ade6a4f69621936ac10d0388e1e58aabcd37"
   }
  }
 },
 "nbformat": 4,
 "nbformat_minor": 2
}
