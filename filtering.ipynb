{
 "cells": [
  {
   "cell_type": "code",
   "execution_count": 1,
   "metadata": {},
   "outputs": [],
   "source": [
    "%run load_dataset.ipynb\n",
    "%run load_labels.ipynb"
   ]
  },
  {
   "cell_type": "code",
   "execution_count": 2,
   "metadata": {},
   "outputs": [],
   "source": [
    "import scipy\n",
    "import mne\n",
    "import pandas as pd\n",
    "import numpy as np"
   ]
  },
  {
   "cell_type": "code",
   "execution_count": 3,
   "metadata": {},
   "outputs": [],
   "source": [
    "n_channels = 32\n",
    "sfreq = 128\n",
    "ch_types = 'eeg'"
   ]
  },
  {
   "cell_type": "code",
   "execution_count": 4,
   "metadata": {},
   "outputs": [],
   "source": [
    "ch_names = [str(i) for i in range(n_channels)]"
   ]
  },
  {
   "cell_type": "code",
   "execution_count": 5,
   "metadata": {},
   "outputs": [],
   "source": [
    "data = load_dataset(raw=True)\n",
    "labels = load_labels()"
   ]
  },
  {
   "cell_type": "markdown",
   "metadata": {},
   "source": [
    "# Filtering one sample"
   ]
  },
  {
   "cell_type": "code",
   "execution_count": 6,
   "metadata": {},
   "outputs": [],
   "source": [
    "# sample = data[1]\n",
    "# info = mne.create_info(ch_names = ch_names, sfreq = sfreq, ch_types=ch_types)\n",
    "# raw = mne.io.RawArray(sample, info, first_samp=0, copy='auto', verbose=False)"
   ]
  },
  {
   "cell_type": "code",
   "execution_count": 7,
   "metadata": {},
   "outputs": [],
   "source": [
    "# raw_highpass = raw.copy().filter(1, 50, verbose=False)"
   ]
  },
  {
   "cell_type": "code",
   "execution_count": 8,
   "metadata": {},
   "outputs": [],
   "source": [
    "# ica = mne.preprocessing.ICA(n_components=18)\n",
    "# ica.fit(raw_highpass)\n",
    "# ica.plot_sources(raw_highpass)"
   ]
  },
  {
   "cell_type": "code",
   "execution_count": 9,
   "metadata": {},
   "outputs": [],
   "source": [
    "#ica.plot_components()"
   ]
  },
  {
   "cell_type": "code",
   "execution_count": 16,
   "metadata": {},
   "outputs": [
    {
     "data": {
      "text/plain": [
       "<mne_qt_browser._pg_figure.MNEQtBrowser at 0x17e048790>"
      ]
     },
     "execution_count": 16,
     "metadata": {},
     "output_type": "execute_result"
    }
   ],
   "source": [
    "# raw.plot(scalings='auto', n_channels=n_channels, verbose=False)"
   ]
  },
  {
   "cell_type": "code",
   "execution_count": 17,
   "metadata": {},
   "outputs": [
    {
     "data": {
      "text/plain": [
       "<mne_qt_browser._pg_figure.MNEQtBrowser at 0x2a65653a0>"
      ]
     },
     "execution_count": 17,
     "metadata": {},
     "output_type": "execute_result"
    }
   ],
   "source": [
    "# raw_savgol = raw.copy().savgol_filter(h_freq=7, verbose=False)\n",
    "# raw_savgol.plot(scalings='auto', n_channels=n_channels, verbose=False)"
   ]
  },
  {
   "cell_type": "code",
   "execution_count": 18,
   "metadata": {},
   "outputs": [
    {
     "data": {
      "text/plain": [
       "<mne_qt_browser._pg_figure.MNEQtBrowser at 0x290118ee0>"
      ]
     },
     "execution_count": 18,
     "metadata": {},
     "output_type": "execute_result"
    }
   ],
   "source": [
    "# raw_np = raw._data\n",
    "# raw_savgol_np = raw_savgol._data\n",
    "# trend_removed_np = raw_np-raw_savgol_np\n",
    "# trend_removed = mne.io.RawArray(trend_removed_np, info, first_samp=0, copy='auto', verbose=False)\n",
    "# trend_removed.plot(scalings='auto', n_channels=n_channels, verbose=False)"
   ]
  },
  {
   "cell_type": "code",
   "execution_count": null,
   "metadata": {},
   "outputs": [],
   "source": [
    "# raw_bandpass = raw.copy().filter(2, 50, verbose=False)\n",
    "# raw_bandpass.plot(scalings='auto', n_channels=32)"
   ]
  },
  {
   "cell_type": "code",
   "execution_count": null,
   "metadata": {},
   "outputs": [],
   "source": [
    "# raw_bandpass_savgol = raw_bandpass.copy().savgol_filter(h_freq=7, verbose=False)\n",
    "# raw_bandpass_savgol.plot(scalings='auto', n_channels=32)"
   ]
  },
  {
   "cell_type": "code",
   "execution_count": 9,
   "metadata": {},
   "outputs": [],
   "source": [
    "filtered_data = np.empty(data.shape)"
   ]
  },
  {
   "cell_type": "markdown",
   "metadata": {},
   "source": [
    "# Filtering the full dataset"
   ]
  },
  {
   "cell_type": "code",
   "execution_count": 7,
   "metadata": {},
   "outputs": [],
   "source": [
    "for i, sample in enumerate(data):\n",
    "    info = mne.create_info(ch_names = ch_names, sfreq = sfreq, ch_types=ch_types)\n",
    "    raw = mne.io.RawArray(sample, info, first_samp=0, copy='auto', verbose=False)\n",
    "    raw_bandpass = raw.copy().filter(2, 50, verbose=False)\n",
    "    raw_bandpass_savgol = raw_bandpass.copy().savgol_filter(h_freq=7, verbose=False)\n",
    "    filtered_data[i] = raw_bandpass_savgol._data"
   ]
  }
 ],
 "metadata": {
  "kernelspec": {
   "display_name": "Python 3.9.7 ('init')",
   "language": "python",
   "name": "python3"
  },
  "language_info": {
   "codemirror_mode": {
    "name": "ipython",
    "version": 3
   },
   "file_extension": ".py",
   "mimetype": "text/x-python",
   "name": "python",
   "nbconvert_exporter": "python",
   "pygments_lexer": "ipython3",
   "version": "3.9.7"
  },
  "orig_nbformat": 4,
  "vscode": {
   "interpreter": {
    "hash": "6a0b16b431f91af56543167d2335ade6a4f69621936ac10d0388e1e58aabcd37"
   }
  }
 },
 "nbformat": 4,
 "nbformat_minor": 2
}
