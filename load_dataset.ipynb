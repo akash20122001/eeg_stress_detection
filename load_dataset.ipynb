{
 "cells": [
  {
   "cell_type": "code",
   "execution_count": 21,
   "metadata": {},
   "outputs": [],
   "source": [
    "import scipy\n",
    "import os\n",
    "import numpy as np"
   ]
  },
  {
   "cell_type": "code",
   "execution_count": 1,
   "metadata": {},
   "outputs": [],
   "source": [
    "dir_raw = '/Users/christiansletten/Dropbox/2022-2023/Fordypningsprosjekt/Publicly Available Dataset/eeg_stress_detection/Data/raw_data'\n",
    "dir_filtered = '/Users/christiansletten/Dropbox/2022-2023/Fordypningsprosjekt/Publicly Available Dataset/eeg_stress_detection/Data/filtered_data'"
   ]
  },
  {
   "cell_type": "code",
   "execution_count": 2,
   "metadata": {},
   "outputs": [],
   "source": [
    "def load_dataset(raw=True, test_type=\"Arithmetic\"):\n",
    "    '''\n",
    "    Loads data from the SAM 40 Dataset with the test specified by test_type.\n",
    "    The raw flag specifies whether to use the raw data or the filtered data.\n",
    "    Returns a Numpy Array with shape (120, 32, 3200).\n",
    "    '''\n",
    "    if raw:\n",
    "        dir = dir_raw\n",
    "        data_key = 'Data'\n",
    "    else:\n",
    "        dir = dir_filtered\n",
    "        data_key = 'Clean_data'\n",
    "\n",
    "    dataset = np.empty((120, 32, 3200))\n",
    "\n",
    "    counter = 0\n",
    "    for filename in os.listdir(dir):\n",
    "        if test_type not in filename:\n",
    "            continue\n",
    "\n",
    "        f = os.path.join(dir, filename)\n",
    "        data = scipy.io.loadmat(f)[data_key]\n",
    "        dataset[counter] = data\n",
    "        counter += 1\n",
    "    return dataset"
   ]
  },
  {
   "cell_type": "code",
   "execution_count": null,
   "metadata": {},
   "outputs": [],
   "source": [
    "def convert_to_epochs(dataset, channels, sfreq, epoch_length=1):\n",
    "    '''\n",
    "    Splits EEG data into epochs with length specified by epoch_length\n",
    "    '''\n",
    "    epoched_dataset = np.empty((dataset.shape[0] * dataset.shape[2]//(sfreq*epoch_length), channels, epoch_length*sfreq))\n",
    "    for i in range(dataset.shape[0]):\n",
    "        for j in range(dataset.shape[2]//(sfreq*epoch_length)):\n",
    "            epoched_dataset[i+j] = dataset[i, :, j*(sfreq*epoch_length):(j+1)*(sfreq*epoch_length)]\n",
    "    return epoched_dataset"
   ]
  }
 ],
 "metadata": {
  "kernelspec": {
   "display_name": "Python 3.9.7 ('init')",
   "language": "python",
   "name": "python3"
  },
  "language_info": {
   "codemirror_mode": {
    "name": "ipython",
    "version": 3
   },
   "file_extension": ".py",
   "mimetype": "text/x-python",
   "name": "python",
   "nbconvert_exporter": "python",
   "pygments_lexer": "ipython3",
   "version": "3.9.7"
  },
  "orig_nbformat": 4,
  "vscode": {
   "interpreter": {
    "hash": "6a0b16b431f91af56543167d2335ade6a4f69621936ac10d0388e1e58aabcd37"
   }
  }
 },
 "nbformat": 4,
 "nbformat_minor": 2
}
